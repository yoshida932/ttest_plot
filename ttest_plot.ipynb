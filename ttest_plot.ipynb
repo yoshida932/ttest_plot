{
 "cells": [
  {
   "cell_type": "code",
   "execution_count": 2,
   "id": "a3a91f42-1493-43e3-9434-06a904dd78c7",
   "metadata": {},
   "outputs": [],
   "source": [
    "dat <- c(2,3,5,8,12)"
   ]
  },
  {
   "cell_type": "code",
   "execution_count": 3,
   "id": "e9ba6a2b-bfcc-4674-a8d5-9b42075ff63b",
   "metadata": {},
   "outputs": [
    {
     "name": "stdout",
     "output_type": "stream",
     "text": [
      "[1]  2  3  5  8 12\n"
     ]
    }
   ],
   "source": [
    "print(dat)"
   ]
  },
  {
   "cell_type": "code",
   "execution_count": 4,
   "id": "3622158e-166f-4b61-87f1-c826ee38a141",
   "metadata": {},
   "outputs": [
    {
     "data": {
      "text/plain": [
       "\n",
       "\tOne Sample t-test\n",
       "\n",
       "data:  dat\n",
       "t = 3.3029, df = 4, p-value = 0.02985\n",
       "alternative hypothesis: true mean is not equal to 0\n",
       "95 percent confidence interval:\n",
       "  0.956337 11.043663\n",
       "sample estimates:\n",
       "mean of x \n",
       "        6 \n"
      ]
     },
     "metadata": {},
     "output_type": "display_data"
    }
   ],
   "source": [
    "t.test(dat)"
   ]
  },
  {
   "cell_type": "code",
   "execution_count": 8,
   "id": "60509e4d-0205-4e32-84db-6091c3455385",
   "metadata": {},
   "outputs": [],
   "source": [
    "dat <- read.csv(\"plot.csv\", header=T, fileEncoding = \"UTF-8\")"
   ]
  },
  {
   "cell_type": "code",
   "execution_count": 9,
   "id": "9db67059-cfd0-42d0-a5b4-6db5c9c6efe3",
   "metadata": {},
   "outputs": [
    {
     "name": "stdout",
     "output_type": "stream",
     "text": [
      "   n fim\n",
      "1 12   5\n",
      "2 24  12\n",
      "3 10  10\n",
      "4  8   8\n",
      "5 25  12\n",
      "6 26  22\n",
      "7 13  10\n",
      "8 15  10\n",
      "9 10   8\n"
     ]
    }
   ],
   "source": [
    "print(dat)"
   ]
  },
  {
   "cell_type": "code",
   "execution_count": 10,
   "id": "98b35e2d-7bba-4fb6-ad16-8928df987847",
   "metadata": {},
   "outputs": [
    {
     "data": {
      "image/png": "[encoded data removed]",
      "text/plain": [
       "plot without title"
      ]
     },
     "metadata": {},
     "output_type": "display_data"
    }
   ],
   "source": [
    "plot(dat)"
   ]
  },
  {
   "cell_type": "code",
   "execution_count": null,
   "id": "d54a8925-ca44-43f5-a26f-f834b16e7dd0",
   "metadata": {},
   "outputs": [],
   "source": []
  }
 ],
 "metadata": {
  "kernelspec": {
   "display_name": "R",
   "language": "R",
   "name": "ir"
  },
  "language_info": {
   "codemirror_mode": "r",
   "file_extension": ".r",
   "mimetype": "text/x-r-source",
   "name": "R",
   "pygments_lexer": "r",
   "version": "3.6.1"
  }
 },
 "nbformat": 4,
 "nbformat_minor": 5
}
